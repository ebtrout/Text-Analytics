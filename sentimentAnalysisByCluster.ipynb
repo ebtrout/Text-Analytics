{
 "cells": [
  {
   "cell_type": "markdown",
   "metadata": {},
   "source": [
    "## Sentiment Analysis By Cluster\n",
    "This notebook looks at the sentiment of documents that are contained within each cluster"
   ]
  },
  {
   "cell_type": "code",
   "execution_count": 2,
   "metadata": {
    "id": "qGQwXskPe8hA"
   },
   "outputs": [],
   "source": [
    "\n",
    "# prompt: load in iphone_processed.csv and pixel_processed.csv in the files folder\n",
    "\n",
    "import pandas as pd\n",
    "import csv\n",
    "import os\n",
    "import numpy as np\n",
    "from scipy import stats\n",
    "from textblob import TextBlob\n",
    "\n",
    "os.chdir(\"C:/Users/emant/Desktop/i hate python\")\n"
   ]
  },
  {
   "cell_type": "code",
   "execution_count": 1,
   "metadata": {},
   "outputs": [
    {
     "name": "stderr",
     "output_type": "stream",
     "text": [
      "<>:23: SyntaxWarning: invalid escape sequence '\\.'\n",
      "<>:23: SyntaxWarning: invalid escape sequence '\\.'\n",
      "C:\\Users\\emant\\AppData\\Local\\Temp\\ipykernel_21732\\3087631099.py:23: SyntaxWarning: invalid escape sequence '\\.'\n",
      "  full_sent += re.split( '[\\.!\\?]', sent )\n",
      "[nltk_data] Downloading package stopwords to\n",
      "[nltk_data]     C:\\Users\\emant\\AppData\\Roaming\\nltk_data...\n",
      "[nltk_data]   Package stopwords is already up-to-date!\n"
     ]
    },
    {
     "name": "stdout",
     "output_type": "stream",
     "text": [
      "[1 1 1 1 1 3 1 1 2 3 1 3 1 1 1 0 0 1 1 1 4 1 4 1 4 0 2 3 3 0 2 0 0 0 0 1 2\n",
      " 0 1 2 1 1 2 0 4 3 1 1 4 1 1 1 4 4 1 1 1 1 1 1 1 1 1 1 0 4 1 2 0 2 1 4 2 2\n",
      " 1]\n",
      "Cluster 0:\n",
      "The station master walked slowly over the snow, a lantern in his hand\n",
      "His face was buried to the nose in a muffler, and the flaps of his cap were turned down over his ears\n",
      "I was then a very young student\n",
      "His mother, the telegram explained, was ill\n",
      "For some time his parents had been trying to persuade him, much against his will, to marry a certain girl\n",
      "According to our modern outlook, he was really too young to marry\n",
      "Moreover, he was not in the least fond of the girl\n",
      "It was in order to avoid an unpleasant situation that instead of going home, as he normally would have done, he had gone to the resort near Tokyo to spend his holidays\n",
      "It was, however, clear that if his mother was truly ill, he should go home\n",
      "But being a young student, his standard of living was much the same as my own\n",
      "Having made this announcement, my employer put his volumes down on a table, seated himself on the chaise-longue, and stretched out his legs\n",
      "I recall thanking him for his consideration, but quite probably I said nothing very definite for my employer went on: I'm serious, Stevens\n",
      "Cluster 1:\n",
      "I was thirty-seven then, strapped in my seat as the huge 747 plunged through dense cloud cover on approach to the Hamburg airport\n",
      "Cold November rains drenched the earth and lent everything the gloomy air of a Flemish landscape: the ground crew in rain gear, a flag atop a squat airport building, a BMW billboard\n",
      "So Germany again\n",
      "Once the plane was on the ground, soft music began to flow from the ceiling speakers: a sweet orchestral cover version of the Beatles' Norwegian Wood The melody never failed to send a shudder through me, but this time it hit me harder than ever\n",
      "I bent forward in my seat, face in hands to keep my skull from splitting open\n",
      "No, I said, just dizzy Are you sure Yes, I'm sure\n",
      "Thanks She smiled and left, and the music changed to a Billy Joel tune\n",
      "The earth lay white under the night sky\n",
      "A girl who had been sitting on the other side of the car came over and opened the window in front of Shimamura\n",
      "The snowy cold poured in\n",
      "Leaning far out the window, the girl called to the station master as though he were a great distance away\n",
      "It's that cold, is it, thought Shimamura\n",
      "Low, barracklike buildings that might have been railway dormitories were scattered here and there up the frozen slope of the mountain\n",
      "The white of the snow fell away into the darkness some distance before it reached them\n",
      "It is not because I consider it more discreet, but it is because I find it more natural that I do so\n",
      "And with pen in hand, I cannot bring myself to write of him in any other way\n",
      "He showed me the telegram, and asked me what he should do\n",
      "And so he decided to leave after all\n",
      "There were many days left before the beginning of term, and I was free either to stay in Kamakura or to go home\n",
      "I decided to stay\n",
      "If one went by rickshaw, it cost twenty sen\n",
      "Remote as the district was, however, many rich families had built their villas there\n",
      "I walked to the sea every day, between thatched cottages that were old and smoke-blackened\n",
      "The beach was always crowded with men and women, and at times the sea, like a public bath, would be covered with a mass of black heads\n",
      "I never ceased to wonder how so many city holiday-makers could squeeze themselves into so small a town\n",
      "In those days, there were two tea houses on the beach\n",
      "For no particular reason, I had come to patronize one of them\n",
      "Unlike those people with their great villas in the Hase area who had their own bathing huts, we in our part of the beach were obliged to make use of these tea houses which served also as communal changing rooms\n",
      "In them the bathers would drink tea, rest, have their bathing suits rinsed, wash the salt from their bodies, and leave their hats and sunshades for safe-keeping\n",
      "I owned no bathing suit to change into, but I was afraid of being robbed, and so I regularly left my things in the tea house before going into the water\n",
      "It seems increasingly likely that I really will undertake the expedition that has been preoccupying my imagination now for some days\n",
      "An expedition, I should say, which I will undertake alone, in the comfort of Mr Farraday's Ford; an expedition which, as I foresee it, will take me through much of the finest countryside of England to the West Country, and may keep me away from Darlington Hall for as much as five or six days\n",
      "The idea of such a journey came about, I should point out, from a most kind suggestion put to me by Mr Farraday himself one afternoon almost a fortnight ago, when I had been dusting the portraits in the library\n",
      "In fact, as I recall, I was up on the step-ladder dusting the portrait of Viscount Wetherby when my employer had entered carrying a few volumes which he presumably wished returned to the shelves\n",
      "On seeing my person, he took the opportunity to inform me that he had just that moment finalized plans to return to the United States for a period of five weeks between August and September\n",
      "Why don't you take the car and drive off somewhere for a few days\n",
      "I'll foot the bill for the gas\n",
      "I thus contented myself by saying simply: It has been my privilege to see the best of England over the years, sir, within these very walls\n",
      "Cluster 2:\n",
      "I straightened up and looked out the plane window at the dark clouds hanging over the North Sea, thinking of what I had lost in the course of my life: times gone forever, friends who had died or disappeared, feelings I would never know again\n",
      "I went there at the insistence of a friend of mine, who had gone to Kamakura to swim\n",
      "My friend, however, did not believe this\n",
      "I did not know what to tell him\n",
      "I, who had taken so much trouble to join my friend, was left alone\n",
      "My friend was from a wealthy family in the Central Provinces, and had no financial worries\n",
      "You look like you could make good use of a break Coming out of the blue as it did, I did not quite know how to reply to such a suggestion\n",
      "I really think you should take a break\n",
      "On this occasion, in fact, a reply of sorts did occur to me as I stood up there on the ladder; a reply to the effect that those of our profession, although we did not see a great deal of the country in the sense of touring the countryside and visiting picturesque sites, did actually 'see' more of England than most, placed as we were in houses where the greatest ladies and gentlemen of the land gathered\n",
      "Of course, I could not have expressed this view to Mr Farraday without embarking upon what might have seemed a presumptuous speech\n",
      "Cluster 3:\n",
      "Before long one of the German stewardesses approached and asked in English if I were sick\n",
      "The train came out of the long tunnel into the snow country\n",
      "The train pulled up at a signal stop\n",
      "We were not together for long\n",
      "It had taken me a few days to get together enough money to cover the necessary expenses, and it was only three days after my arrival that my friend received a telegram from home demanding his return\n",
      "My inn was in a rather out-of-the-way district of Kamakura, and if one wished to indulge in such fashionable pastimes as playing billiards and eating ice cream, one had to walk a long way across rice fields\n",
      "Cluster 4:\n",
      "I always called him Sensei I shall therefore refer to him simply as Sensei, and not by his real name\n",
      "Whenever the memory of him comes back to me now, I find that I think of him as Sensei still\n",
      "It was at Kamakura, during the summer holidays, that I first met Sensei\n",
      "I was therefore not obliged, when I found myself alone, to change my lodgings\n",
      "It was quite near the sea also, which was convenient for swimmers such as myself\n",
      "Alone in this noisy and happy crowd, I managed to enjoy myself, dozing on the beach or splashing about in the water\n",
      "It was in the midst of this confusion that I found Sensei\n",
      "You realize, Stevens, I don't expect you to be locked up here in this house all the time I'm away\n",
      "You fellows, you're always locked up in these big houses helping out, how do you ever get to see around this beautiful country of yours This was not the first time my employer had raised such a question; indeed, it seems to be something which genuinely troubles him\n",
      "\n"
     ]
    }
   ],
   "source": [
    "import nltk\n",
    "import re\n",
    "import string\n",
    "\n",
    "from sklearn.feature_extraction.text import TfidfVectorizer\n",
    "from sklearn.metrics.pairwise import cosine_similarity\n",
    "from sklearn.cluster import KMeans\n",
    "\n",
    "nltk.download( 'stopwords' )\n",
    "\n",
    "txt = [\n",
    "  'I was thirty-seven then, strapped in my seat as the huge 747 plunged through dense cloud cover on approach to the Hamburg airport. Cold November rains drenched the earth and lent everything the gloomy air of a Flemish landscape: the ground crew in rain gear, a flag atop a squat airport building, a BMW billboard. So Germany again. Once the plane was on the ground, soft music began to flow from the ceiling speakers: a sweet orchestral cover version of the Beatles\\' \"Norwegian Wood.\" The melody never failed to send a shudder through me, but this time it hit me harder than ever. I bent forward in my seat, face in hands to keep my skull from splitting open. Before long one of the German stewardesses approached and asked in English if I were sick. \"No,\" I said, \"just dizzy.\" \"Are you sure?\" \"Yes, I\\'m sure. Thanks.\" She smiled and left, and the music changed to a Billy Joel tune. I straightened up and looked out the plane window at the dark clouds hanging over the North Sea, thinking of what I had lost in the course of my life: times gone forever, friends who had died or disappeared, feelings I would never know again.',\n",
    "  'The train came out of the long tunnel into the snow country. The earth lay white under the night sky. The train pulled up at a signal stop. A girl who had been sitting on the other side of the car came over and opened the window in front of Shimamura. The snowy cold poured in. Leaning far out the window, the girl called to the station master as though he were a great distance away. The station master walked slowly over the snow, a lantern in his hand. His face was buried to the nose in a muffler, and the flaps of his cap were turned down over his ears. It\\'s that cold, is it, thought Shimamura. Low, barracklike buildings that might have been railway dormitories were scattered here and there up the frozen slope of the mountain. The white of the snow fell away into the darkness some distance before it reached them.',\n",
    "  'I always called him \"Sensei.\" I shall therefore refer to him simply as \"Sensei,\" and not by his real name. It is not because I consider it more discreet, but it is because I find it more natural that I do so. Whenever the memory of him comes back to me now, I find that I think of him as \"Sensei\" still. And with pen in hand, I cannot bring myself to write of him in any other way. It was at Kamakura, during the summer holidays, that I first met Sensei. I was then a very young student. I went there at the insistence of a friend of mine, who had gone to Kamakura to swim. We were not together for long. It had taken me a few days to get together enough money to cover the necessary expenses, and it was only three days after my arrival that my friend received a telegram from home demanding his return. His mother, the telegram explained, was ill. My friend, however, did not believe this. For some time his parents had been trying to persuade him, much against his will, to marry a certain girl. According to our modern outlook, he was really too young to marry. Moreover, he was not in the least fond of the girl. It was in order to avoid an unpleasant situation that instead of going home, as he normally would have done, he had gone to the resort near Tokyo to spend his holidays. He showed me the telegram, and asked me what he should do. I did not know what to tell him. It was, however, clear that if his mother was truly ill, he should go home. And so he decided to leave after all. I, who had taken so much trouble to join my friend, was left alone. There were many days left before the beginning of term, and I was free either to stay in Kamakura or to go home. I decided to stay. My friend was from a wealthy family in the Central Provinces, and had no financial worries. But being a young student, his standard of living was much the same as my own. I was therefore not obliged, when I found myself alone, to change my lodgings. My inn was in a rather out-of-the-way district of Kamakura, and if one wished to indulge in such fashionable pastimes as playing billiards and eating ice cream, one had to walk a long way across rice fields. If one went by rickshaw, it cost twenty sen. Remote as the district was, however, many rich families had built their villas there. It was quite near the sea also, which was convenient for swimmers such as myself. I walked to the sea every day, between thatched cottages that were old and smoke-blackened. The beach was always crowded with men and women, and at times the sea, like a public bath, would be covered with a mass of black heads. I never ceased to wonder how so many city holiday-makers could squeeze themselves into so small a town. Alone in this noisy and happy crowd, I managed to enjoy myself, dozing on the beach or splashing about in the water. It was in the midst of this confusion that I found Sensei. In those days, there were two tea houses on the beach. For no particular reason, I had come to patronize one of them. Unlike those people with their great villas in the Hase area who had their own bathing huts, we in our part of the beach were obliged to make use of these tea houses which served also as communal changing rooms. In them the bathers would drink tea, rest, have their bathing suits rinsed, wash the salt from their bodies, and leave their hats and sunshades for safe-keeping. I owned no bathing suit to change into, but I was afraid of being robbed, and so I regularly left my things in the tea house before going into the water.',\n",
    "  'It seems increasingly likely that I really will undertake the expedition that has been preoccupying my imagination now for some days. An expedition, I should say, which I will undertake alone, in the comfort of Mr Farraday\\'s Ford; an expedition which, as I foresee it, will take me through much of the finest countryside of England to the West Country, and may keep me away from Darlington Hall for as much as five or six days. The idea of such a journey came about, I should point out, from a most kind suggestion put to me by Mr Farraday himself one afternoon almost a fortnight ago, when I had been dusting the portraits in the library. In fact, as I recall, I was up on the step-ladder dusting the portrait of Viscount Wetherby when my employer had entered carrying a few volumes which he presumably wished returned to the shelves. On seeing my person, he took the opportunity to inform me that he had just that moment finalized plans to return to the United States for a period of five weeks between August and September. Having made this announcement, my employer put his volumes down on a table, seated himself on the chaise-longue, and stretched out his legs. \"You realize, Stevens, I don\\'t expect you to be locked up here in this house all the time I\\'m away. Why don\\'t you take the car and drive off somewhere for a few days? You look like you could make good use of a break.\" Coming out of the blue as it did, I did not quite know how to reply to such a suggestion. I recall thanking him for his consideration, but quite probably I said nothing very definite for my employer went on: \"I\\'m serious, Stevens. I really think you should take a break. I\\'ll foot the bill for the gas. You fellows, you\\'re always locked up in these big houses helping out, how do you ever get to see around this beautiful country of yours?\" This was not the first time my employer had raised such a question; indeed, it seems to be something which genuinely troubles him. On this occasion, in fact, a reply of sorts did occur to me as I stood up there on the ladder; a reply to the effect that those of our profession, although we did not see a great deal of the country in the sense of touring the countryside and visiting picturesque sites, did actually \\'see\\' more of England than most, placed as we were in houses where the greatest ladies and gentlemen of the land gathered. Of course, I could not have expressed this view to Mr Farraday without embarking upon what might have seemed a presumptuous speech. I thus contented myself by saying simply: \"It has been my privilege to see the best of England over the years, sir, within these very walls.\"'\n",
    "]\n",
    "\n",
    "#  Split text blocks into sentences\n",
    "\n",
    "full_sent = [ ]\n",
    "for i in range( 0, len( txt ) ):\n",
    "    sent = re.sub( r'[\\.!\\?]\"', '\"', txt[ i ] )\n",
    "    full_sent += re.split( '[\\.!\\?]', sent )\n",
    "full_sent = [sent.strip() for sent in full_sent]\n",
    "\n",
    "#  Remove empty sentences\n",
    "\n",
    "i = 0\n",
    "while i < len( full_sent ):\n",
    "    if len( full_sent[ i ] ) == 0:\n",
    "        del full_sent[ i ]\n",
    "    else:\n",
    "        i += 1\n",
    "\n",
    "#  Remove punctuation\n",
    "\n",
    "sent = [ ]\n",
    "\n",
    "punc = string.punctuation.replace( '-', '' )\n",
    "for i in range( 0, len( full_sent ) ):\n",
    "    sent.append( re.sub( '[' + punc + ']+', '', full_sent[ i ] ) )\n",
    "\n",
    "#  Porter stem\n",
    "\n",
    "porter = nltk.stem.porter.PorterStemmer()\n",
    "stems = { }\n",
    "\n",
    "for i in range( 0, len( sent ) ):\n",
    "    tok = sent[ i ].split()\n",
    "    for j in range( 0, len( tok ) ):\n",
    "        if tok[ j ] not in stems:\n",
    "            stems[ tok[ j ] ] = porter.stem( tok[ j ] )\n",
    "        tok[ j ] = stems[ tok[ j ] ]\n",
    "\n",
    "    sent[ i ] = ' '.join( tok )\n",
    "\n",
    "#  Remove empty sentences after stop word removal\n",
    "\n",
    "i = 0\n",
    "while i < len( sent ):\n",
    "    if len( sent[ i ] ) == 0:\n",
    "        del sent[ i ]\n",
    "    else:\n",
    "        i += 1\n",
    "\n",
    "#  Convert frequencies to TF-IDF values, get cosine similarity\n",
    "#  of all pairs of documents\n",
    "\n",
    "tfidf = TfidfVectorizer( stop_words='english', max_df=0.8, max_features=1000 )\n",
    "term_vec = tfidf.fit_transform( sent )\n",
    "X = cosine_similarity( term_vec )\n",
    "\n",
    "#  Fit vectors to clusters\n",
    "\n",
    "clust = KMeans( n_clusters=5, random_state=1 ).fit( X )\n",
    "print( clust.labels_ )\n",
    "\n",
    "for i in range( 0, len( set( clust.labels_ ) ) ):\n",
    "    print( f'Cluster {i}:' )\n",
    "    \n",
    "    for j in range( 0, len( clust.labels_ ) ):\n",
    "        if clust.labels_[ j ] == i:\n",
    "            print( full_sent[ j ].replace( '\"', '' ).strip() )\n",
    "\n",
    "print()"
   ]
  },
  {
   "cell_type": "code",
   "execution_count": 3,
   "metadata": {},
   "outputs": [
    {
     "name": "stdout",
     "output_type": "stream",
     "text": [
      "Concept 0: earth veri went cold realli undertak build rain expedit day\n",
      "Concept 1: know think water plane alon left thi time friend wa\n",
      "Concept 2: veri chang tea beach england repli great hous wa did\n",
      "Concept 3: troubl hous ask long hi wa approach employ seat thi\n",
      "Concept 4: leav stay long sure walk way day befor wa kamakura\n",
      "Concept 5: train break know long wa telegram snow come did hi\n",
      "Concept 6: window cold im car dont away hous shimamura young open\n",
      "Concept 7: hand wish recal wa dust portrait employ volum return becaus\n",
      "Concept 8: girl cover taken telegram home decid friend togeth day hi\n",
      "Concept 9: sea howev student beach girl famili alway sensei hi wa\n",
      "\n",
      "Cluster 0:\n",
      "I was thirty-seven then, strapped in my seat as the huge 747 plunged through dense cloud cover on approach to the Hamburg airport\n",
      "Before long one of the German stewardesses approached and asked in English if I were sick\n",
      "Thanks\" She smiled and left, and the music changed to a Billy Joel tune\n",
      "Whenever the memory of him comes back to me now, I find that I think of him as \"Sensei\" still\n",
      "My friend, however, did not believe this\n",
      "The idea of such a journey came about, I should point out, from a most kind suggestion put to me by Mr Farraday himself one afternoon almost a fortnight ago, when I had been dusting the portraits in the library\n",
      "Having made this announcement, my employer put his volumes down on a table, seated himself on the chaise-longue, and stretched out his legs\n",
      "You fellows, you're always locked up in these big houses helping out, how do you ever get to see around this beautiful country of yours\" This was not the first time my employer had raised such a question; indeed, it seems to be something which genuinely troubles him\n",
      "\n",
      "Cluster 1:\n",
      "Once the plane was on the ground, soft music began to flow from the ceiling speakers: a sweet orchestral cover version of the Beatles' \"Norwegian Wood\" The melody never failed to send a shudder through me, but this time it hit me harder than ever\n",
      "I straightened up and looked out the plane window at the dark clouds hanging over the North Sea, thinking of what I had lost in the course of my life: times gone forever, friends who had died or disappeared, feelings I would never know again\n",
      "The earth lay white under the night sky\n",
      "I was then a very young student\n",
      "It was, however, clear that if his mother was truly ill, he should go home\n",
      "I, who had taken so much trouble to join my friend, was left alone\n",
      "I never ceased to wonder how so many city holiday-makers could squeeze themselves into so small a town\n",
      "Alone in this noisy and happy crowd, I managed to enjoy myself, dozing on the beach or splashing about in the water\n",
      "I owned no bathing suit to change into, but I was afraid of being robbed, and so I regularly left my things in the tea house before going into the water\n",
      "Why don't you take the car and drive off somewhere for a few days\n",
      "\n",
      "Cluster 2:\n",
      "Cold November rains drenched the earth and lent everything the gloomy air of a Flemish landscape: the ground crew in rain gear, a flag atop a squat airport building, a BMW billboard\n",
      "Low, barracklike buildings that might have been railway dormitories were scattered here and there up the frozen slope of the mountain\n",
      "I decided to stay\n",
      "In those days, there were two tea houses on the beach\n",
      "It seems increasingly likely that I really will undertake the expedition that has been preoccupying my imagination now for some days\n",
      "An expedition, I should say, which I will undertake alone, in the comfort of Mr Farraday's Ford; an expedition which, as I foresee it, will take me through much of the finest countryside of England to the West Country, and may keep me away from Darlington Hall for as much as five or six days\n",
      "I recall thanking him for his consideration, but quite probably I said nothing very definite for my employer went on: \"I'm serious, Stevens\n",
      "I really think you should take a break\n",
      "\n",
      "Cluster 3:\n",
      "The train pulled up at a signal stop\n",
      "Leaning far out the window, the girl called to the station master as though he were a great distance away\n",
      "His face was buried to the nose in a muffler, and the flaps of his cap were turned down over his ears\n",
      "I always called him \"Sensei\" I shall therefore refer to him simply as \"Sensei,\" and not by his real name\n",
      "Moreover, he was not in the least fond of the girl\n",
      "My friend was from a wealthy family in the Central Provinces, and had no financial worries\n",
      "But being a young student, his standard of living was much the same as my own\n",
      "If one went by rickshaw, it cost twenty sen\n",
      "Remote as the district was, however, many rich families had built their villas there\n",
      "The beach was always crowded with men and women, and at times the sea, like a public bath, would be covered with a mass of black heads\n",
      "It was in the midst of this confusion that I found Sensei\n",
      "On seeing my person, he took the opportunity to inform me that he had just that moment finalized plans to return to the United States for a period of five weeks between August and September\n",
      "\n",
      "Cluster 4:\n",
      "So Germany again\n",
      "I bent forward in my seat, face in hands to keep my skull from splitting open\n",
      "\"No,\" I said, \"just dizzy\" \"Are you sure\" \"Yes, I'm sure\n",
      "The train came out of the long tunnel into the snow country\n",
      "A girl who had been sitting on the other side of the car came over and opened the window in front of Shimamura\n",
      "The snowy cold poured in\n",
      "The station master walked slowly over the snow, a lantern in his hand\n",
      "It's that cold, is it, thought Shimamura\n",
      "The white of the snow fell away into the darkness some distance before it reached them\n",
      "It is not because I consider it more discreet, but it is because I find it more natural that I do so\n",
      "And with pen in hand, I cannot bring myself to write of him in any other way\n",
      "It was at Kamakura, during the summer holidays, that I first met Sensei\n",
      "I went there at the insistence of a friend of mine, who had gone to Kamakura to swim\n",
      "We were not together for long\n",
      "It had taken me a few days to get together enough money to cover the necessary expenses, and it was only three days after my arrival that my friend received a telegram from home demanding his return\n",
      "His mother, the telegram explained, was ill\n",
      "For some time his parents had been trying to persuade him, much against his will, to marry a certain girl\n",
      "According to our modern outlook, he was really too young to marry\n",
      "It was in order to avoid an unpleasant situation that instead of going home, as he normally would have done, he had gone to the resort near Tokyo to spend his holidays\n",
      "He showed me the telegram, and asked me what he should do\n",
      "I did not know what to tell him\n",
      "And so he decided to leave after all\n",
      "There were many days left before the beginning of term, and I was free either to stay in Kamakura or to go home\n",
      "I was therefore not obliged, when I found myself alone, to change my lodgings\n",
      "My inn was in a rather out-of-the-way district of Kamakura, and if one wished to indulge in such fashionable pastimes as playing billiards and eating ice cream, one had to walk a long way across rice fields\n",
      "It was quite near the sea also, which was convenient for swimmers such as myself\n",
      "I walked to the sea every day, between thatched cottages that were old and smoke-blackened\n",
      "For no particular reason, I had come to patronize one of them\n",
      "Unlike those people with their great villas in the Hase area who had their own bathing huts, we in our part of the beach were obliged to make use of these tea houses which served also as communal changing rooms\n",
      "In them the bathers would drink tea, rest, have their bathing suits rinsed, wash the salt from their bodies, and leave their hats and sunshades for safe-keeping\n",
      "In fact, as I recall, I was up on the step-ladder dusting the portrait of Viscount Wetherby when my employer had entered carrying a few volumes which he presumably wished returned to the shelves\n",
      "\"You realize, Stevens, I don't expect you to be locked up here in this house all the time I'm away\n",
      "You look like you could make good use of a break\" Coming out of the blue as it did, I did not quite know how to reply to such a suggestion\n",
      "I'll foot the bill for the gas\n",
      "On this occasion, in fact, a reply of sorts did occur to me as I stood up there on the ladder; a reply to the effect that those of our profession, although we did not see a great deal of the country in the sense of touring the countryside and visiting picturesque sites, did actually 'see' more of England than most, placed as we were in houses where the greatest ladies and gentlemen of the land gathered\n",
      "Of course, I could not have expressed this view to Mr Farraday without embarking upon what might have seemed a presumptuous speech\n",
      "I thus contented myself by saying simply: \"It has been my privilege to see the best of England over the years, sir, within these very walls\"\n",
      "\n"
     ]
    }
   ],
   "source": [
    "import pandas as pd\n",
    "from sklearn.decomposition import LatentDirichletAllocation as LDA\n",
    "from sklearn.feature_extraction.text import CountVectorizer\n",
    "\n",
    "#  Count raw term frequencies\n",
    "\n",
    "count = CountVectorizer( stop_words='english' )\n",
    "term_vec = count.fit_transform( sent )\n",
    "\n",
    "n_topic = 10\n",
    "\n",
    "#  Build a string list of [ 'Concept 1', 'Concept 2', ..., 'Concept n' ]\n",
    "\n",
    "col_nm = [ ]\n",
    "for i in range( 1, n_topic + 1 ):\n",
    "    col_nm += [ f'Concept {i}' ]\n",
    "\n",
    "#  Fit an LDA model to the term vectors, get cosine similarities\n",
    "\n",
    "lda_model = LDA( n_components=n_topic )\n",
    "concept = lda_model.fit_transform( term_vec )\n",
    "X = cosine_similarity( concept )\n",
    "\n",
    "#  Print top 10 terms for each topic\n",
    "\n",
    "feat = count.get_feature_names_out()\n",
    "topic_list = [ ]\n",
    "for i,topic in enumerate( lda_model.components_ ):\n",
    "    top_n = [ feat[ i ] for i in topic.argsort()[ -10: ] ]\n",
    "    top_feat = ' '.join( top_n )\n",
    "    topic_list.append( f\"topic_{'_'.join(top_n[ :3 ] ) }\" )\n",
    "    \n",
    "    print( f'Concept {i}: {top_feat}' )\n",
    "print()\n",
    "\n",
    "#  Cluster sentences and print clusters\n",
    "\n",
    "clust = KMeans( n_clusters=5 ).fit( concept )\n",
    "\n",
    "for i in range( 0, len( set( clust.labels_ ) ) ):\n",
    "    print( f'Cluster {i}:' )\n",
    "    for j in range( 0, len( clust.labels_ ) ):\n",
    "        if clust.labels_[ j ] != i:\n",
    "            continue\n",
    "        print( full_sent[ j ] )\n",
    "\n",
    "    print()\n",
    "\n"
   ]
  },
  {
   "cell_type": "code",
   "execution_count": 4,
   "metadata": {},
   "outputs": [
    {
     "name": "stdout",
     "output_type": "stream",
     "text": [
      "Concept 0: holiday young wa friend time gone dont marri thi hi\n",
      "Concept 1: cold cover taken friend decid telegram togeth leav becaus day\n",
      "Concept 2: countri tea beach bath time alway hous thi hi wa\n",
      "Concept 3: ha veri thi simpli holiday hous hand england repli did\n",
      "Concept 4: therefor car came mr farraday away shimamura day expedit alon\n",
      "Concept 5: long stay thi district home mani way howev kamakura wa\n",
      "Concept 6: airport build earth young student realli cold sure just rain\n",
      "Concept 7: ask went long veri quit befor snow hi sensei wa\n",
      "Concept 8: villa distanc master station beach employ chang wa great girl\n",
      "Concept 9: sea think wa look cloud left did come friend know\n",
      "\n",
      "Cluster 0:\n",
      "Once the plane was on the ground, soft music began to flow from the ceiling speakers: a sweet orchestral cover version of the Beatles' \"Norwegian Wood\" The melody never failed to send a shudder through me, but this time it hit me harder than ever\n",
      "Before long one of the German stewardesses approached and asked in English if I were sick\n",
      "The station master walked slowly over the snow, a lantern in his hand\n",
      "It's that cold, is it, thought Shimamura\n",
      "The white of the snow fell away into the darkness some distance before it reached them\n",
      "I always called him \"Sensei\" I shall therefore refer to him simply as \"Sensei,\" and not by his real name\n",
      "Whenever the memory of him comes back to me now, I find that I think of him as \"Sensei\" still\n",
      "It was at Kamakura, during the summer holidays, that I first met Sensei\n",
      "I was then a very young student\n",
      "We were not together for long\n",
      "My friend was from a wealthy family in the Central Provinces, and had no financial worries\n",
      "It was quite near the sea also, which was convenient for swimmers such as myself\n",
      "I recall thanking him for his consideration, but quite probably I said nothing very definite for my employer went on: \"I'm serious, Stevens\n",
      "\n",
      "Cluster 1:\n",
      "I was thirty-seven then, strapped in my seat as the huge 747 plunged through dense cloud cover on approach to the Hamburg airport\n",
      "Cold November rains drenched the earth and lent everything the gloomy air of a Flemish landscape: the ground crew in rain gear, a flag atop a squat airport building, a BMW billboard\n",
      "I bent forward in my seat, face in hands to keep my skull from splitting open\n",
      "\"No,\" I said, \"just dizzy\" \"Are you sure\" \"Yes, I'm sure\n",
      "Thanks\" She smiled and left, and the music changed to a Billy Joel tune\n",
      "I straightened up and looked out the plane window at the dark clouds hanging over the North Sea, thinking of what I had lost in the course of my life: times gone forever, friends who had died or disappeared, feelings I would never know again\n",
      "The train pulled up at a signal stop\n",
      "A girl who had been sitting on the other side of the car came over and opened the window in front of Shimamura\n",
      "The snowy cold poured in\n",
      "Leaning far out the window, the girl called to the station master as though he were a great distance away\n",
      "Low, barracklike buildings that might have been railway dormitories were scattered here and there up the frozen slope of the mountain\n",
      "It is not because I consider it more discreet, but it is because I find it more natural that I do so\n",
      "And with pen in hand, I cannot bring myself to write of him in any other way\n",
      "It had taken me a few days to get together enough money to cover the necessary expenses, and it was only three days after my arrival that my friend received a telegram from home demanding his return\n",
      "Moreover, he was not in the least fond of the girl\n",
      "He showed me the telegram, and asked me what he should do\n",
      "I did not know what to tell him\n",
      "And so he decided to leave after all\n",
      "I, who had taken so much trouble to join my friend, was left alone\n",
      "But being a young student, his standard of living was much the same as my own\n",
      "I was therefore not obliged, when I found myself alone, to change my lodgings\n",
      "If one went by rickshaw, it cost twenty sen\n",
      "I walked to the sea every day, between thatched cottages that were old and smoke-blackened\n",
      "I never ceased to wonder how so many city holiday-makers could squeeze themselves into so small a town\n",
      "For no particular reason, I had come to patronize one of them\n",
      "Unlike those people with their great villas in the Hase area who had their own bathing huts, we in our part of the beach were obliged to make use of these tea houses which served also as communal changing rooms\n",
      "In them the bathers would drink tea, rest, have their bathing suits rinsed, wash the salt from their bodies, and leave their hats and sunshades for safe-keeping\n",
      "It seems increasingly likely that I really will undertake the expedition that has been preoccupying my imagination now for some days\n",
      "An expedition, I should say, which I will undertake alone, in the comfort of Mr Farraday's Ford; an expedition which, as I foresee it, will take me through much of the finest countryside of England to the West Country, and may keep me away from Darlington Hall for as much as five or six days\n",
      "In fact, as I recall, I was up on the step-ladder dusting the portrait of Viscount Wetherby when my employer had entered carrying a few volumes which he presumably wished returned to the shelves\n",
      "On seeing my person, he took the opportunity to inform me that he had just that moment finalized plans to return to the United States for a period of five weeks between August and September\n",
      "You look like you could make good use of a break\" Coming out of the blue as it did, I did not quite know how to reply to such a suggestion\n",
      "I really think you should take a break\n",
      "On this occasion, in fact, a reply of sorts did occur to me as I stood up there on the ladder; a reply to the effect that those of our profession, although we did not see a great deal of the country in the sense of touring the countryside and visiting picturesque sites, did actually 'see' more of England than most, placed as we were in houses where the greatest ladies and gentlemen of the land gathered\n",
      "I thus contented myself by saying simply: \"It has been my privilege to see the best of England over the years, sir, within these very walls\"\n",
      "\n",
      "Cluster 2:\n",
      "It was, however, clear that if his mother was truly ill, he should go home\n",
      "There were many days left before the beginning of term, and I was free either to stay in Kamakura or to go home\n",
      "My inn was in a rather out-of-the-way district of Kamakura, and if one wished to indulge in such fashionable pastimes as playing billiards and eating ice cream, one had to walk a long way across rice fields\n",
      "Remote as the district was, however, many rich families had built their villas there\n",
      "Alone in this noisy and happy crowd, I managed to enjoy myself, dozing on the beach or splashing about in the water\n",
      "It was in the midst of this confusion that I found Sensei\n",
      "The idea of such a journey came about, I should point out, from a most kind suggestion put to me by Mr Farraday himself one afternoon almost a fortnight ago, when I had been dusting the portraits in the library\n",
      "\n",
      "Cluster 3:\n",
      "The earth lay white under the night sky\n",
      "I went there at the insistence of a friend of mine, who had gone to Kamakura to swim\n",
      "My friend, however, did not believe this\n",
      "For some time his parents had been trying to persuade him, much against his will, to marry a certain girl\n",
      "According to our modern outlook, he was really too young to marry\n",
      "It was in order to avoid an unpleasant situation that instead of going home, as he normally would have done, he had gone to the resort near Tokyo to spend his holidays\n",
      "I decided to stay\n",
      "Having made this announcement, my employer put his volumes down on a table, seated himself on the chaise-longue, and stretched out his legs\n",
      "\"You realize, Stevens, I don't expect you to be locked up here in this house all the time I'm away\n",
      "Why don't you take the car and drive off somewhere for a few days\n",
      "I'll foot the bill for the gas\n",
      "\n",
      "Cluster 4:\n",
      "So Germany again\n",
      "The train came out of the long tunnel into the snow country\n",
      "His face was buried to the nose in a muffler, and the flaps of his cap were turned down over his ears\n",
      "His mother, the telegram explained, was ill\n",
      "The beach was always crowded with men and women, and at times the sea, like a public bath, would be covered with a mass of black heads\n",
      "In those days, there were two tea houses on the beach\n",
      "I owned no bathing suit to change into, but I was afraid of being robbed, and so I regularly left my things in the tea house before going into the water\n",
      "You fellows, you're always locked up in these big houses helping out, how do you ever get to see around this beautiful country of yours\" This was not the first time my employer had raised such a question; indeed, it seems to be something which genuinely troubles him\n",
      "Of course, I could not have expressed this view to Mr Farraday without embarking upon what might have seemed a presumptuous speech\n",
      "\n"
     ]
    }
   ],
   "source": [
    "import pandas as pd\n",
    "from sklearn.decomposition import LatentDirichletAllocation as LDA\n",
    "from sklearn.feature_extraction.text import CountVectorizer\n",
    "\n",
    "#  Count raw term frequencies\n",
    "\n",
    "count = CountVectorizer( stop_words='english' )\n",
    "term_vec = count.fit_transform( sent )\n",
    "\n",
    "n_topic = 10\n",
    "\n",
    "#  Build a string list of [ 'Concept 1', 'Concept 2', ..., 'Concept n' ]\n",
    "\n",
    "col_nm = [ ]\n",
    "for i in range( 1, n_topic + 1 ):\n",
    "    col_nm += [ f'Concept {i}' ]\n",
    "\n",
    "#  Fit an LDA model to the term vectors, get cosine similarities\n",
    "\n",
    "lda_model = LDA( n_components=n_topic )\n",
    "concept = lda_model.fit_transform( term_vec )\n",
    "X = cosine_similarity( concept )\n",
    "\n",
    "#  Print top 10 terms for each topic\n",
    "\n",
    "feat = count.get_feature_names_out()\n",
    "topic_list = [ ]\n",
    "for i,topic in enumerate( lda_model.components_ ):\n",
    "    top_n = [ feat[ i ] for i in topic.argsort()[ -10: ] ]\n",
    "    top_feat = ' '.join( top_n )\n",
    "    topic_list.append( f\"topic_{'_'.join(top_n[ :3 ] ) }\" )\n",
    "    \n",
    "    print( f'Concept {i}: {top_feat}' )\n",
    "print()\n",
    "\n",
    "#  Cluster sentences and print clusters\n",
    "\n",
    "clust = KMeans( n_clusters=5 ).fit( concept )\n",
    "\n",
    "for i in range( 0, len( set( clust.labels_ ) ) ):\n",
    "    print( f'Cluster {i}:' )\n",
    "    for j in range( 0, len( clust.labels_ ) ):\n",
    "        if clust.labels_[ j ] != i:\n",
    "            continue\n",
    "        print( full_sent[ j ] )\n",
    "\n",
    "    print()\n",
    "\n"
   ]
  },
  {
   "cell_type": "markdown",
   "metadata": {},
   "source": [
    "## Data Reading"
   ]
  },
  {
   "cell_type": "code",
   "execution_count": 3,
   "metadata": {
    "id": "IXuhU__TfobY"
   },
   "outputs": [],
   "source": [
    "iphone_df = pd.read_excel('iphone_processed.xlsx')\n",
    "pixel_df = pd.read_excel('pixel_processed.xlsx')"
   ]
  },
  {
   "cell_type": "markdown",
   "metadata": {},
   "source": [
    "## Sentiment analysis function"
   ]
  },
  {
   "cell_type": "code",
   "execution_count": 4,
   "metadata": {
    "colab": {
     "base_uri": "https://localhost:8080/"
    },
    "executionInfo": {
     "elapsed": 6147,
     "status": "ok",
     "timestamp": 1728432698423,
     "user": {
      "displayName": "Krista Bogan",
      "userId": "00854447203257427102"
     },
     "user_tz": 240
    },
    "id": "r_MwUDXfndXQ",
    "outputId": "2c5f49ad-a9a2-4192-b9b1-7d753ad1777f"
   },
   "outputs": [],
   "source": [
    "def analyze_sentiment_textblob(text):\n",
    "    blob = TextBlob(text)\n",
    "    return blob.sentiment.polarity  # returns a value between -1 (negative) and 1 (positive)"
   ]
  },
  {
   "cell_type": "markdown",
   "metadata": {},
   "source": [
    "## Cluster A Sentiment "
   ]
  },
  {
   "cell_type": "code",
   "execution_count": 5,
   "metadata": {},
   "outputs": [
    {
     "name": "stderr",
     "output_type": "stream",
     "text": [
      "C:\\Users\\emant\\AppData\\Local\\Temp\\ipykernel_7636\\2212689881.py:11: SettingWithCopyWarning: \n",
      "A value is trying to be set on a copy of a slice from a DataFrame.\n",
      "Try using .loc[row_indexer,col_indexer] = value instead\n",
      "\n",
      "See the caveats in the documentation: https://pandas.pydata.org/pandas-docs/stable/user_guide/indexing.html#returning-a-view-versus-a-copy\n",
      "  iphoneA['polarity'] = iphoneA['cleaned_text'].apply(analyze_sentiment_textblob)\n",
      "C:\\Users\\emant\\AppData\\Local\\Temp\\ipykernel_7636\\2212689881.py:12: SettingWithCopyWarning: \n",
      "A value is trying to be set on a copy of a slice from a DataFrame.\n",
      "Try using .loc[row_indexer,col_indexer] = value instead\n",
      "\n",
      "See the caveats in the documentation: https://pandas.pydata.org/pandas-docs/stable/user_guide/indexing.html#returning-a-view-versus-a-copy\n",
      "  pixelA['polarity'] = pixelA['cleaned_text'].apply(analyze_sentiment_textblob)\n"
     ]
    }
   ],
   "source": [
    "# Topic A keywords\n",
    "topicA = [\"Touch\", \"Charger\", \"Work\", \"Phone\", \"Face\", \"Charge\", \"Use\", \"ID\", \"Button\"]\n",
    "topicA = [keyword.lower() for keyword in topicA]\n",
    "\n",
    "\n",
    "# Subsetting dataframe\n",
    "iphoneA = iphone_df[iphone_df['cleaned_text'].apply(lambda x: any(keyword in x for keyword in topicA))]\n",
    "pixelA = pixel_df[pixel_df['cleaned_text'].apply(lambda x: any(keyword in x for keyword in topicA))]\n",
    "\n",
    "# Running sentiment analysis\n",
    "iphoneA['polarity'] = iphoneA['cleaned_text'].apply(analyze_sentiment_textblob)\n",
    "pixelA['polarity'] = pixelA['cleaned_text'].apply(analyze_sentiment_textblob)\n"
   ]
  },
  {
   "cell_type": "markdown",
   "metadata": {},
   "source": [
    "### T Test"
   ]
  },
  {
   "cell_type": "code",
   "execution_count": 6,
   "metadata": {},
   "outputs": [
    {
     "name": "stdout",
     "output_type": "stream",
     "text": [
      "-7.972564912476797 1.6808373950515367e-15\n"
     ]
    }
   ],
   "source": [
    "t_statistic, p_value = stats.ttest_ind(iphoneA['polarity'], pixelA['polarity'], equal_var=False)\n",
    "print(t_statistic, p_value)\n"
   ]
  },
  {
   "cell_type": "markdown",
   "metadata": {},
   "source": [
    "iphone statistically lower sentiment"
   ]
  },
  {
   "cell_type": "markdown",
   "metadata": {},
   "source": [
    "## Cluster B Sentiment"
   ]
  },
  {
   "cell_type": "code",
   "execution_count": 11,
   "metadata": {
    "colab": {
     "base_uri": "https://localhost:8080/"
    },
    "executionInfo": {
     "elapsed": 208,
     "status": "ok",
     "timestamp": 1728432824176,
     "user": {
      "displayName": "Krista Bogan",
      "userId": "00854447203257427102"
     },
     "user_tz": 240
    },
    "id": "vaHfcIzgn9cs",
    "outputId": "a5128924-cc81-4fc7-8935-e96675050ed8"
   },
   "outputs": [
    {
     "name": "stderr",
     "output_type": "stream",
     "text": [
      "C:\\Users\\emant\\AppData\\Local\\Temp\\ipykernel_7636\\244247068.py:10: SettingWithCopyWarning: \n",
      "A value is trying to be set on a copy of a slice from a DataFrame.\n",
      "Try using .loc[row_indexer,col_indexer] = value instead\n",
      "\n",
      "See the caveats in the documentation: https://pandas.pydata.org/pandas-docs/stable/user_guide/indexing.html#returning-a-view-versus-a-copy\n",
      "  iphoneB['polarity'] = iphoneB['cleaned_text'].apply(analyze_sentiment_textblob)\n",
      "C:\\Users\\emant\\AppData\\Local\\Temp\\ipykernel_7636\\244247068.py:11: SettingWithCopyWarning: \n",
      "A value is trying to be set on a copy of a slice from a DataFrame.\n",
      "Try using .loc[row_indexer,col_indexer] = value instead\n",
      "\n",
      "See the caveats in the documentation: https://pandas.pydata.org/pandas-docs/stable/user_guide/indexing.html#returning-a-view-versus-a-copy\n",
      "  pixelB['polarity'] = pixelB['cleaned_text'].apply(analyze_sentiment_textblob)\n"
     ]
    }
   ],
   "source": [
    "# Topic B keywords\n",
    "topicB = [\"iPhone\", \"Video\", \"Photo\", \"Samsung\", \"Set\", \"Use\", \"Phone\", \"Pixel\", \"App\"]\n",
    "topicB = [keyword.lower() for keyword in topicB]\n",
    "\n",
    "# Subsetting dataframe\n",
    "iphoneB = iphone_df[iphone_df['cleaned_text'].apply(lambda x: any(keyword in x for keyword in topicB))]\n",
    "pixelB = pixel_df[pixel_df['cleaned_text'].apply(lambda x: any(keyword in x for keyword in topicB))]\n",
    "\n",
    "# Running sentiment analysis\n",
    "iphoneB['polarity'] = iphoneB['cleaned_text'].apply(analyze_sentiment_textblob)\n",
    "pixelB['polarity'] = pixelB['cleaned_text'].apply(analyze_sentiment_textblob)\n"
   ]
  },
  {
   "cell_type": "markdown",
   "metadata": {},
   "source": [
    "### T Test"
   ]
  },
  {
   "cell_type": "code",
   "execution_count": 12,
   "metadata": {},
   "outputs": [
    {
     "name": "stdout",
     "output_type": "stream",
     "text": [
      "-8.586188384261945 9.922395514590505e-18\n"
     ]
    }
   ],
   "source": [
    "\n",
    "t_statistic, p_value = stats.ttest_ind(iphoneB['polarity'], pixelB['polarity'], equal_var=False)\n",
    "print(t_statistic, p_value)\n"
   ]
  },
  {
   "cell_type": "markdown",
   "metadata": {},
   "source": [
    "Iphone statistically lower sentiment"
   ]
  },
  {
   "cell_type": "markdown",
   "metadata": {},
   "source": [
    "## Cluster C Sentiment"
   ]
  },
  {
   "cell_type": "code",
   "execution_count": 16,
   "metadata": {},
   "outputs": [
    {
     "name": "stderr",
     "output_type": "stream",
     "text": [
      "C:\\Users\\emant\\AppData\\Local\\Temp\\ipykernel_7636\\1399868322.py:11: SettingWithCopyWarning: \n",
      "A value is trying to be set on a copy of a slice from a DataFrame.\n",
      "Try using .loc[row_indexer,col_indexer] = value instead\n",
      "\n",
      "See the caveats in the documentation: https://pandas.pydata.org/pandas-docs/stable/user_guide/indexing.html#returning-a-view-versus-a-copy\n",
      "  iphoneC['polarity'] = iphoneC['cleaned_text'].apply(analyze_sentiment_textblob)\n",
      "C:\\Users\\emant\\AppData\\Local\\Temp\\ipykernel_7636\\1399868322.py:12: SettingWithCopyWarning: \n",
      "A value is trying to be set on a copy of a slice from a DataFrame.\n",
      "Try using .loc[row_indexer,col_indexer] = value instead\n",
      "\n",
      "See the caveats in the documentation: https://pandas.pydata.org/pandas-docs/stable/user_guide/indexing.html#returning-a-view-versus-a-copy\n",
      "  pixelC['polarity'] = pixelC['cleaned_text'].apply(analyze_sentiment_textblob)\n"
     ]
    }
   ],
   "source": [
    "\n",
    "# List of keywords from cluster c\n",
    "topicC = [\"XL\", \"Quality\", \"Issue\", \"Max\", \"15\", \"16\", \"Pixel\", \"iPhone\", \"Pro\"]\n",
    "topicC = [keyword.lower() for keyword in topicC]\n",
    "\n",
    "# Subsetting dataframe\n",
    "iphoneC = iphone_df[iphone_df['cleaned_text'].apply(lambda x: any(keyword in x for keyword in topicC))]\n",
    "pixelC = pixel_df[pixel_df['cleaned_text'].apply(lambda x: any(keyword in x for keyword in topicC))]\n",
    "\n",
    "\n",
    "# Running sentiment analysis\n",
    "iphoneC['polarity'] = iphoneC['cleaned_text'].apply(analyze_sentiment_textblob)\n",
    "pixelC['polarity'] = pixelC['cleaned_text'].apply(analyze_sentiment_textblob)"
   ]
  },
  {
   "cell_type": "code",
   "execution_count": 18,
   "metadata": {},
   "outputs": [
    {
     "data": {
      "text/plain": [
       "0        When will you think the second batch of iPhone...\n",
       "1        Girlfriend wants the latest iPhone but can't a...\n",
       "2        Hi! I'm in a dire need of a new iPhone and bas...\n",
       "5         \\n\\n**General advice for those concerned abou...\n",
       "8        If you're looking for help or support, you sho...\n",
       "                               ...                        \n",
       "13991    I know. I’m mot sure if I’ll keep the 16 Pro j...\n",
       "13997    I have preorderd 16 pro desert titanium and go...\n",
       "13999    My desert titanium pro max arrived with scratc...\n",
       "14001    Wow I thought it was almost impossible to have...\n",
       "14002    On the scale they produce these phones there a...\n",
       "Name: text, Length: 6856, dtype: object"
      ]
     },
     "execution_count": 18,
     "metadata": {},
     "output_type": "execute_result"
    }
   ],
   "source": [
    "iphoneA['text']"
   ]
  },
  {
   "cell_type": "markdown",
   "metadata": {},
   "source": [
    "### T Test"
   ]
  },
  {
   "cell_type": "code",
   "execution_count": 17,
   "metadata": {},
   "outputs": [
    {
     "name": "stdout",
     "output_type": "stream",
     "text": [
      "-8.81909886671751 1.3424964176765719e-18\n"
     ]
    }
   ],
   "source": [
    "\n",
    "t_statistic, p_value = stats.ttest_ind(iphoneC['polarity'], pixelC['polarity'], equal_var=False)\n",
    "print(t_statistic, p_value)"
   ]
  },
  {
   "cell_type": "markdown",
   "metadata": {},
   "source": [
    "Iphone statistically lower sentiment"
   ]
  }
 ],
 "metadata": {
  "colab": {
   "authorship_tag": "ABX9TyMbkYq7a8K80pYBhEEjXmjR",
   "provenance": []
  },
  "kernelspec": {
   "display_name": "Python 3",
   "language": "python",
   "name": "python3"
  },
  "language_info": {
   "codemirror_mode": {
    "name": "ipython",
    "version": 3
   },
   "file_extension": ".py",
   "mimetype": "text/x-python",
   "name": "python",
   "nbconvert_exporter": "python",
   "pygments_lexer": "ipython3",
   "version": "3.12.4"
  }
 },
 "nbformat": 4,
 "nbformat_minor": 0
}
